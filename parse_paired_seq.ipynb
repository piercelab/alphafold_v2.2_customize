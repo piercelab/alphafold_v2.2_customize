{
 "cells": [
  {
   "cell_type": "code",
   "execution_count": 8,
   "metadata": {},
   "outputs": [],
   "source": [
    "import sys\n",
    "sys.path.insert(1, '/piercehome/yinr/alphafold/alphafold_v2.2/')\n",
    "import pickle as pkl\n",
    "from alphafold.common import residue_constants\n"
   ]
  },
  {
   "cell_type": "code",
   "execution_count": 4,
   "metadata": {},
   "outputs": [],
   "source": [
    "feat_fn=\"/piercehome/tcr/TCRmodel-2.0/benchmark_run2/afm_customized/work_zone/6zkx/features.pkl\"\n",
    "with open(feat_fn,'rb') as fh:\n",
    "    feats=pkl.load(fh)"
   ]
  },
  {
   "cell_type": "code",
   "execution_count": 9,
   "metadata": {},
   "outputs": [],
   "source": [
    "msa_outpath='/piercehome/tcr/TCRmodel-2.0/benchmark_run2/afm_customized/work_zone/6zkx/all_msa_feat_gaptoU.fasta'\n",
    "with open(msa_outpath, 'w+') as fh:\n",
    "    # fh.write(\">query\"+\"\\n\"+input_sequence+\"\\n\")\n",
    "    counter=1\n",
    "    for seq in feats['msa']:\n",
    "        seq=[residue_constants.ID_TO_HHBLITS_AA[num] for num in seq]\n",
    "        # for x in range(len(seq)):\n",
    "        counter+=1\n",
    "        fh.write(\">seq_\"+str(counter)+\"\\n\")\n",
    "        out=\"\".join(seq).replace(\"-\",\"U\")\n",
    "        fh.write(out+\"\\n\")"
   ]
  },
  {
   "cell_type": "code",
   "execution_count": null,
   "metadata": {},
   "outputs": [],
   "source": []
  }
 ],
 "metadata": {
  "kernelspec": {
   "display_name": "Python 3.8.10 ('af2')",
   "language": "python",
   "name": "python3"
  },
  "language_info": {
   "codemirror_mode": {
    "name": "ipython",
    "version": 3
   },
   "file_extension": ".py",
   "mimetype": "text/x-python",
   "name": "python",
   "nbconvert_exporter": "python",
   "pygments_lexer": "ipython3",
   "version": "3.8.10"
  },
  "orig_nbformat": 4,
  "vscode": {
   "interpreter": {
    "hash": "68bb5c4a02ee4cfa811fafba40e6ffd646f390100f239a2326c0f1e7dd2a0711"
   }
  }
 },
 "nbformat": 4,
 "nbformat_minor": 2
}
