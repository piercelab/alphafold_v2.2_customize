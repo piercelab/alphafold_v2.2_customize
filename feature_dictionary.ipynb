{
 "cells": [
  {
   "cell_type": "code",
   "execution_count": 1,
   "metadata": {},
   "outputs": [],
   "source": [
    "import sys\n",
    "sys.path.insert(1, '/piercehome/yinr/alphafold/alphafold_v2.2/')"
   ]
  },
  {
   "cell_type": "code",
   "execution_count": 2,
   "metadata": {},
   "outputs": [],
   "source": [
    "import os\n",
    "import pickle as pkl"
   ]
  },
  {
   "cell_type": "code",
   "execution_count": 3,
   "metadata": {},
   "outputs": [],
   "source": [
    "output_dir=\"/piercehome/yinr/antibody/antibody-antigen-complexes/af_benchmarking/af2.2/modeled_template/seperate_chains/7bbj_H_L_A_ab/\"\n",
    "features_output_path = os.path.join(output_dir, 'features.pkl')"
   ]
  },
  {
   "cell_type": "code",
   "execution_count": 4,
   "metadata": {},
   "outputs": [],
   "source": [
    "with open(features_output_path, 'rb') as fh:\n",
    "    feature_dict = pkl.load(fh)"
   ]
  },
  {
   "cell_type": "code",
   "execution_count": 7,
   "metadata": {},
   "outputs": [
    {
     "data": {
      "text/plain": [
       "dict_keys(['aatype', 'residue_index', 'seq_length', 'msa', 'num_alignments', 'template_aatype', 'template_all_atom_mask', 'template_all_atom_positions', 'asym_id', 'sym_id', 'entity_id', 'deletion_matrix', 'deletion_mean', 'all_atom_mask', 'all_atom_positions', 'assembly_num_chains', 'entity_mask', 'num_templates', 'cluster_bias_mask', 'bert_mask', 'seq_mask', 'msa_mask'])"
      ]
     },
     "execution_count": 7,
     "metadata": {},
     "output_type": "execute_result"
    }
   ],
   "source": [
    "feature_dict.keys()"
   ]
  },
  {
   "cell_type": "code",
   "execution_count": 13,
   "metadata": {},
   "outputs": [
    {
     "name": "stdout",
     "output_type": "stream",
     "text": [
      "msa: (4470, 771)\n",
      "deletion_matrix: (4470, 771)\n",
      "cluster_bias_mask: (4470,)\n",
      "bert_mask: (4470, 771)\n",
      "msa_mask: (4470, 771)\n"
     ]
    }
   ],
   "source": [
    "key_save=['msa','deletion_matrix','cluster_bias_mask','bert_mask','msa_mask']\n",
    "for i in key_save:\n",
    "    print(\"%s: %s\" %(i, str(feature_dict[i].shape)))"
   ]
  },
  {
   "cell_type": "code",
   "execution_count": 9,
   "metadata": {},
   "outputs": [
    {
     "data": {
      "text/plain": [
       "(4470, 771)"
      ]
     },
     "execution_count": 9,
     "metadata": {},
     "output_type": "execute_result"
    }
   ],
   "source": [
    "feature_dict['msa'].shape"
   ]
  },
  {
   "cell_type": "code",
   "execution_count": 6,
   "metadata": {},
   "outputs": [],
   "source": [
    "output_dir=\"/piercehome/yinr/antibody/antibody-antigen-complexes/af_benchmarking/af2.2/old_temp_msa/7bbj_H_L_A_ab/\"\n",
    "features_output_path = os.path.join(output_dir, 'features.pkl')\n",
    "with open(features_output_path, 'rb') as fh:\n",
    "    ori_feature_dict = pkl.load(fh)"
   ]
  },
  {
   "cell_type": "code",
   "execution_count": 8,
   "metadata": {},
   "outputs": [
    {
     "data": {
      "text/plain": [
       "array([[ True,  True,  True, ...,  True,  True,  True],\n",
       "       [ True,  True,  True, ...,  True,  True,  True],\n",
       "       [ True,  True,  True, ...,  True,  True,  True],\n",
       "       ...,\n",
       "       [ True,  True,  True, ...,  True,  True,  True],\n",
       "       [ True,  True,  True, ...,  True,  True,  True],\n",
       "       [ True,  True,  True, ...,  True,  True,  True]])"
      ]
     },
     "execution_count": 8,
     "metadata": {},
     "output_type": "execute_result"
    }
   ],
   "source": [
    "ori_feature_dict['msa']==feature_dict['msa']"
   ]
  },
  {
   "cell_type": "code",
   "execution_count": null,
   "metadata": {},
   "outputs": [],
   "source": []
  }
 ],
 "metadata": {
  "kernelspec": {
   "display_name": "Python 3.8.10 ('af2')",
   "language": "python",
   "name": "python3"
  },
  "language_info": {
   "codemirror_mode": {
    "name": "ipython",
    "version": 3
   },
   "file_extension": ".py",
   "mimetype": "text/x-python",
   "name": "python",
   "nbconvert_exporter": "python",
   "pygments_lexer": "ipython3",
   "version": "3.8.10"
  },
  "orig_nbformat": 4,
  "vscode": {
   "interpreter": {
    "hash": "68bb5c4a02ee4cfa811fafba40e6ffd646f390100f239a2326c0f1e7dd2a0711"
   }
  }
 },
 "nbformat": 4,
 "nbformat_minor": 2
}
